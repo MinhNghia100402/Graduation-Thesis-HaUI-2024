{
 "cells": [
  {
   "cell_type": "code",
   "execution_count": 9,
   "metadata": {},
   "outputs": [],
   "source": [
    "from llama_index.core import SummaryIndex\n",
    "from llama_index.readers.web import SimpleWebPageReader\n",
    "from IPython.display import Markdown, display\n",
    "from bs4 import BeautifulSoup\n",
    "import requests\n",
    "from dotenv import load_dotenv\n",
    "import os"
   ]
  },
  {
   "cell_type": "code",
   "execution_count": 10,
   "metadata": {},
   "outputs": [],
   "source": [
    "load_dotenv()\n",
    "root_data = os.getenv('ROOT_LINK_DATA')\n",
    "with open(root_data, 'r') as list_link:\n",
    "    links = list_link.readlines()"
   ]
  },
  {
   "cell_type": "code",
   "execution_count": 34,
   "metadata": {},
   "outputs": [],
   "source": [
    "def get_a_element(links):\n",
    "\n",
    "    headers = {'Accept-Encoding': 'identity'}\n",
    "    r = requests.get(links.strip(), headers=headers)\n",
    "    soup = BeautifulSoup(r.content)\n",
    "    a_elements = soup.find_all('a')\n",
    "    src_links = []\n",
    "    for a in a_elements:\n",
    "        src_link = a.get('href')  # Get the href attribute\n",
    "        if src_link:  # Check if href exists\n",
    "            src_links.append(src_link)\n",
    "    return src_links\n"
   ]
  },
  {
   "cell_type": "code",
   "execution_count": null,
   "metadata": {},
   "outputs": [],
   "source": [
    "#convet link corectly\n",
    "# code here ......"
   ]
  },
  {
   "cell_type": "code",
   "execution_count": 30,
   "metadata": {},
   "outputs": [],
   "source": [
    "# #write link to file txt \n",
    "# with open('./../list_link.txt', 'w') as list_link:\n",
    "#     for link in src_links:\n",
    "#         list_link.write(f\"{link}\\n\")\n",
    "#     list_link.close()"
   ]
  },
  {
   "cell_type": "code",
   "execution_count": 31,
   "metadata": {},
   "outputs": [],
   "source": [
    "#check if url exists\n",
    "\n",
    "def add_url(url,url_dict):\n",
    "    if url in url_dict:\n",
    "        return False\n",
    "    else:\n",
    "        url_dict.append(url)\n",
    "        return True"
   ]
  },
  {
   "cell_type": "code",
   "execution_count": 15,
   "metadata": {},
   "outputs": [],
   "source": [
    "with open('./../list_link.txt','r') as file:\n",
    "    urls = file.readlines()\n",
    "    for link in urls:\n",
    "        if add_url(link):\n",
    "            continue\n"
   ]
  },
  {
   "cell_type": "code",
   "execution_count": 71,
   "metadata": {},
   "outputs": [],
   "source": [
    "data_file = 'data_proces.txt'\n",
    "data_link = 'link_result.txt'\n",
    "\n",
    "#open metadata link \n",
    "url_dict = []\n",
    "with open(data_link, 'r') as file:\n",
    "    links = file.readlines()\n",
    "    for i in links:\n",
    "        url_dict.append(i.strip())\n",
    "    "
   ]
  },
  {
   "cell_type": "code",
   "execution_count": 72,
   "metadata": {},
   "outputs": [],
   "source": [
    "import requests\n",
    "from bs4 import BeautifulSoup\n",
    "\n",
    "\n",
    "def getAllText(url):\n",
    "    response = requests.get(url)\n",
    "    if response.status_code == 200:\n",
    "        soup = BeautifulSoup(response.content, 'html.parser')\n",
    "        content = soup.get_text()\n",
    "        return content.strip()\n",
    "    else:\n",
    "        return None\n",
    "\n",
    "def proccessing_content(url):\n",
    "    content = getAllText(url)\n",
    "    allText = content.split('\\n\\n\\n')\n",
    "    data_proces = [x for x in allText if len(x.strip())>0]\n",
    "    with open(data_file,'a') as data_save_file:\n",
    "        for i in data_proces:\n",
    "            line = i.strip().replace('\\n\\n','\\n').strip().replace('\\n',', ')\n",
    "            data_save_file.write(line+'\\n')\n",
    "        data_save_file.close()\n",
    " \n",
    "for link in url_dict:\n",
    "    proccessing_content(link)"
   ]
  }
 ],
 "metadata": {
  "kernelspec": {
   "display_name": "datn",
   "language": "python",
   "name": "python3"
  },
  "language_info": {
   "codemirror_mode": {
    "name": "ipython",
    "version": 3
   },
   "file_extension": ".py",
   "mimetype": "text/x-python",
   "name": "python",
   "nbconvert_exporter": "python",
   "pygments_lexer": "ipython3",
   "version": "3.10.14"
  }
 },
 "nbformat": 4,
 "nbformat_minor": 2
}
