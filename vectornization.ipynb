{
 "cells": [
  {
   "cell_type": "code",
   "execution_count": 1,
   "metadata": {},
   "outputs": [],
   "source": [
    "file_dataset = 'data_proces.txt'\n",
    "with open(file_dataset, 'r') as f:\n",
    "    data = f.readlines()"
   ]
  },
  {
   "cell_type": "code",
   "execution_count": null,
   "metadata": {},
   "outputs": [],
   "source": [
    "from langchain_community.embeddings import HuggingFaceEmbeddings\n",
    "\n",
    "model_name = \"BAAI/bge-large-en\"\n",
    "model_kwargs = {'device': 'cpu'}\n",
    "encode_kwargs = {'normalize_embeddings': False}\n",
    "embeddings = HuggingFaceEmbeddings(\n",
    "    model_name=model_name,\n",
    "    model_kwargs=model_kwargs,\n",
    "    encode_kwargs=encode_kwargs\n",
    ")"
   ]
  },
  {
   "cell_type": "code",
   "execution_count": 3,
   "metadata": {},
   "outputs": [],
   "source": [
    "from langchain_experimental.text_splitter import SemanticChunker\n",
    "text_splitter = SemanticChunker(\n",
    "    embeddings, breakpoint_threshold_type=\"standard_deviation\"\n",
    ")\n",
    "\n"
   ]
  },
  {
   "cell_type": "code",
   "execution_count": 13,
   "metadata": {},
   "outputs": [
    {
     "name": "stderr",
     "output_type": "stream",
     "text": [
      "/home/nghia.vu1/anaconda3/envs/ntq/lib/python3.10/site-packages/torch/cuda/__init__.py:619: UserWarning: Can't initialize NVML\n",
      "  warnings.warn(\"Can't initialize NVML\")\n"
     ]
    }
   ],
   "source": [
    "from FlagEmbedding import FlagModel\n",
    "\n",
    "model = FlagModel('BAAI/bge-large-en', \n",
    "                  query_instruction_for_retrieval=\"为这个句子生成表示以用于检索相关文章：\",\n",
    "                  use_fp16=True) # Setting use_fp16 to True speeds up computation with a slight performance degradation\n",
    "# embeddings_1 = model.encode(sentences_1)\n",
    "# embeddings_2 = model.encode(sentences_2)\n",
    "# similarity = embeddings_1 @ embeddings_2.T\n",
    "# print(similarity)\n",
    "\n",
    "# # for s2p(short query to long passage) retrieval task, suggest to use encode_queries() which will automatically add the instruction to each query\n",
    "# # corpus in retrieval task can still use encode() or encode_corpus(), since they don't need instruction\n",
    "# queries = ['query_1', 'query_2']\n",
    "# passages = [\"样例文档-1\", \"样例文档-2\"]\n",
    "# q_embeddings = model.encode_queries(queries)\n",
    "# p_embeddings = model.encode(passages)\n",
    "# scores = q_embeddings @ p_embeddings.T"
   ]
  },
  {
   "cell_type": "code",
   "execution_count": 7,
   "metadata": {},
   "outputs": [
    {
     "data": {
      "text/plain": [
       "1024"
      ]
     },
     "execution_count": 7,
     "metadata": {},
     "output_type": "execute_result"
    }
   ],
   "source": []
  },
  {
   "cell_type": "code",
   "execution_count": 14,
   "metadata": {},
   "outputs": [],
   "source": [
    "import re\n",
    "import openai\n",
    "import numpy as np\n",
    "from sklearn.metrics.pairwise import cosine_similarity\n",
    "\n",
    "\n",
    "def _split_sentences(text):\n",
    "    list_sentences = []\n",
    "    for senten in text:\n",
    "    # Use regular expressions to split the text into sentences based on punctuation followed by whitespace.\n",
    "        sentences = re.split(r'(?<=[.?!])\\s+', senten)\n",
    "        for i in sentences:\n",
    "            list_sentences.append(i)\n",
    "    return list_sentences\n",
    "\n",
    "def _combine_sentences(sentences):\n",
    "    print('len : ',len(sentences))\n",
    "    # Create a buffer by combining each sentence with its previous and next sentence to provide a wider context.\n",
    "    combined_sentences = []\n",
    "    for i in range(len(sentences)):\n",
    "        combined_sentence = sentences[i]\n",
    "        if i > 0:\n",
    "            combined_sentence = sentences[i-1] + ' ' + combined_sentence\n",
    "        if i < len(sentences) - 1:\n",
    "            combined_sentence += ' ' + sentences[i+1]\n",
    "        combined_sentences.append(combined_sentence)\n",
    "    return combined_sentences\n",
    "\n",
    "\n",
    "from tqdm import tqdm\n",
    "\n",
    "def convert_to_vector(list_sentences):\n",
    "    embeddings = []\n",
    "    \n",
    "    # Sử dụng tqdm để hiển thị tiến trình\n",
    "    for sentence in tqdm(list_sentences, desc=\"Converting sentences to vectors\"):\n",
    "        embedding = model.encode(sentence)\n",
    "        embeddings.append(embedding)\n",
    "    \n",
    "    return embeddings\n",
    "\n",
    "\n",
    "def _calculate_cosine_distances(embeddings):\n",
    "    # Calculate the cosine distance (1 - cosine similarity) between consecutive embeddings.\n",
    "    distances = []\n",
    "    for i in range(len(embeddings) - 1):\n",
    "        similarity = cosine_similarity([embeddings[i]], [embeddings[i + 1]])[0][0]\n",
    "        distance = 1 - similarity\n",
    "        distances.append(distance)\n",
    "    return distances\n"
   ]
  },
  {
   "cell_type": "code",
   "execution_count": 15,
   "metadata": {},
   "outputs": [],
   "source": [
    "def chunk_text(text):\n",
    "    # Split the input text into individual sentences.\n",
    "    single_sentences_list = _split_sentences(text)\n",
    "    # Combine adjacent sentences to form a context window around each sentence.\n",
    "    combined_sentences = _combine_sentences(single_sentences_list)\n",
    "    # Convert the combined sentences into vector representations using a neural network model.\n",
    "    embeddings = convert_to_vector(combined_sentences)\n",
    "    \n",
    "    # Calculate the cosine distances between consecutive combined sentence embeddings to measure similarity.\n",
    "    distances = _calculate_cosine_distances(embeddings)\n",
    "    \n",
    "    # Determine the threshold distance for identifying breakpoints based on the 80th percentile of all distances.\n",
    "    breakpoint_percentile_threshold = 80\n",
    "    \n",
    "    breakpoint_distance_threshold = np.percentile(distances, breakpoint_percentile_threshold)\n",
    "    # Find all indices where the distance exceeds the calculated threshold, indicating a potential chunk breakpoint.\n",
    "    indices_above_thresh = [i for i, distance in enumerate(distances) if distance > breakpoint_distance_threshold]\n",
    "    # Initialize the list of chunks and a variable to track the start of the next chunk.\n",
    "    chunks = []\n",
    "    start_index = 0\n",
    "    # Loop through the identified breakpoints and create chunks accordingly.\n",
    "    for index in indices_above_thresh:\n",
    "        chunk = ' '.join(single_sentences_list[start_index:index+1])\n",
    "        chunks.append(chunk)\n",
    "        start_index = index + 1\n",
    "    \n",
    "    # If there are any sentences left after the last breakpoint, add them as the final chunk.\n",
    "    if start_index < len(single_sentences_list):\n",
    "        chunk = ' '.join(single_sentences_list[start_index:])\n",
    "        chunks.append(chunk)\n",
    "    # Return the list of text chunks.\n",
    "    return chunks"
   ]
  },
  {
   "cell_type": "code",
   "execution_count": 24,
   "metadata": {},
   "outputs": [],
   "source": [
    "with open('data_proces.txt', 'r') as filedata:\n",
    "    data = filedata.readlines()\n",
    "    filedata.close()"
   ]
  },
  {
   "cell_type": "code",
   "execution_count": null,
   "metadata": {},
   "outputs": [],
   "source": [
    "from langchain_huggingface.embeddings import HuggingFaceEmbeddings\n",
    "\n",
    "model_name = 'BAAI/bge-large-en'\n",
    "hf_embeddings = HuggingFaceEmbeddings(\n",
    "    model_name=model_name,\n",
    ")\n",
    "texts = [\"Hello, world!\", \"How are you?\"]   \n",
    "hf_embeddings.embed_documents(texts)\n"
   ]
  },
  {
   "cell_type": "code",
   "execution_count": 5,
   "metadata": {},
   "outputs": [],
   "source": [
    "from langchain_experimental.text_splitter import SemanticChunker\n",
    "from langchain_openai.embeddings import OpenAIEmbeddings\n",
    "\n",
    "text_splitter = SemanticChunker(hf_embeddings)\n"
   ]
  },
  {
   "cell_type": "code",
   "execution_count": 6,
   "metadata": {},
   "outputs": [],
   "source": [
    "with open('data_proces.txt', 'r') as filedata:\n",
    "    state_of_the_union = filedata.read()"
   ]
  },
  {
   "cell_type": "code",
   "execution_count": null,
   "metadata": {},
   "outputs": [],
   "source": [
    "docs = text_splitter.create_documents([state_of_the_union])\n",
    "print(docs[0].page_content)"
   ]
  },
  {
   "cell_type": "code",
   "execution_count": 10,
   "metadata": {},
   "outputs": [],
   "source": [
    "from langchain_qdrant import QdrantVectorStore\n",
    "qdrant = QdrantVectorStore.from_documents(\n",
    "    docs,\n",
    "    hf_embeddings,\n",
    "    location=\":memory:\",  # Local mode with in-memory storage only\n",
    "    collection_name=\"my_documents\",\n",
    ")"
   ]
  },
  {
   "cell_type": "code",
   "execution_count": 16,
   "metadata": {},
   "outputs": [
    {
     "data": {
      "text/plain": [
       "[Document(metadata={'_id': 'f68ae838de764f42a077bd7ec2cf0199', '_collection_name': 'my_documents'}, page_content='Tiếng anh giao tiếp cơ bản.( môi trường làm việc đa quốc gia).'),\n",
       " Document(metadata={'_id': 'a7f6d3f3aba04062a413ba193e8d5d58', '_collection_name': 'my_documents'}, page_content='Tiếng anh giao tiếp cơ bản.( môi trường làm việc đa quốc gia).'),\n",
       " Document(metadata={'_id': 'cb285504ba8240b8b64e5f8238a13048', '_collection_name': 'my_documents'}, page_content='Nguyễn Văn Thiện. TS.'),\n",
       " Document(metadata={'_id': '05b3eabafa9b46799d5c8e3438fbdddd', '_collection_name': 'my_documents'}, page_content='Nguyễn Văn Thiện. TS.')]"
      ]
     },
     "execution_count": 16,
     "metadata": {},
     "output_type": "execute_result"
    }
   ],
   "source": [
    "query = \"Cơ sở 1 nằm ở đâu ?\"\n",
    "found_docs = qdrant.similarity_search(query)\n",
    "found_docs"
   ]
  },
  {
   "cell_type": "code",
   "execution_count": 18,
   "metadata": {},
   "outputs": [
    {
     "data": {
      "text/plain": [
       "Document(metadata={'_id': 'f68ae838de764f42a077bd7ec2cf0199', '_collection_name': 'my_documents'}, page_content='Tiếng anh giao tiếp cơ bản.( môi trường làm việc đa quốc gia).')"
      ]
     },
     "execution_count": 18,
     "metadata": {},
     "output_type": "execute_result"
    }
   ],
   "source": [
    "retriever = qdrant.as_retriever()\n",
    "# retriever = qdrant.as_retriever(search_type=\"mmr\")\n",
    "query = \"có bao nhiêu giảng viên\"\n",
    "retriever.invoke(query)[0]"
   ]
  }
 ],
 "metadata": {
  "kernelspec": {
   "display_name": "ntq",
   "language": "python",
   "name": "python3"
  },
  "language_info": {
   "codemirror_mode": {
    "name": "ipython",
    "version": 3
   },
   "file_extension": ".py",
   "mimetype": "text/x-python",
   "name": "python",
   "nbconvert_exporter": "python",
   "pygments_lexer": "ipython3",
   "version": "3.9.19"
  }
 },
 "nbformat": 4,
 "nbformat_minor": 2
}
